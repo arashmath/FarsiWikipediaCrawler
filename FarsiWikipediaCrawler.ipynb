{
 "cells": [
  {
   "cell_type": "code",
   "execution_count": null,
   "metadata": {},
   "outputs": [],
   "source": []
  },
  {
   "cell_type": "code",
   "execution_count": 7,
   "metadata": {},
   "outputs": [],
   "source": [
    "from lxml import html\n",
    "import requests"
   ]
  },
  {
   "cell_type": "code",
   "execution_count": 8,
   "metadata": {},
   "outputs": [],
   "source": [
    "def crawl(tree):\n",
    "    paragraphs = tree.xpath('(//div[@id=\"bodyContent\"]//table)[1]/following-sibling::p/text() | (//div[@id=\"bodyContent\"]//table)[1]/following-sibling::p/*/text()')\n",
    "\n",
    "    ref_list = tree.xpath('//*[@id=\"منابع\"]/../following-sibling::p/text()')\n",
    "    for element in ref_list:\n",
    "        if element in paragraphs:\n",
    "            paragraphs.remove(element)\n",
    "    return paragraphs"
   ]
  },
  {
   "cell_type": "code",
   "execution_count": 9,
   "metadata": {},
   "outputs": [],
   "source": [
    "def save_file(article_name, paragraphs):\n",
    "    import os\n",
    "    import codecs\n",
    "\n",
    "    directory = input(\" Please enter the full directory address where you want to store the document: \")\n",
    "    if not os.path.exists(directory):\n",
    "        os.makedirs(directory)\n",
    "    os.chdir(directory)\n",
    "    \n",
    "    f = codecs.open(article_name[0]+\".txt\", mode='w', encoding='utf8')\n",
    "    for sentence in paragraphs:\n",
    "        f.write(sentence)\n",
    "    f.close()"
   ]
  },
  {
   "cell_type": "code",
   "execution_count": 10,
   "metadata": {},
   "outputs": [],
   "source": [
    "def get_info(address):\n",
    "    page = requests.get(address)\n",
    "    tree = html.fromstring(page.content)\n",
    "    article_name = tree.xpath('//*[@id=\"firstHeading\"]//text()')\n",
    "    print(article_name)\n",
    "    return tree, article_name"
   ]
  },
  {
   "cell_type": "code",
   "execution_count": 11,
   "metadata": {},
   "outputs": [],
   "source": [
    "def my_crawler(address):\n",
    "    \n",
    "    tree, article_name = get_info(address)\n",
    "        \n",
    "    contents = crawl(tree)\n",
    "    links = link_finder(tree)\n",
    "    save_file(article_name, contents)"
   ]
  },
  {
   "cell_type": "code",
   "execution_count": 12,
   "metadata": {},
   "outputs": [
    {
     "name": "stdout",
     "output_type": "stream",
     "text": [
      " Please enter the expression you want to search on Wikipedia: شبکه عصبی\n",
      "['شبکه عصبی']\n",
      " Please enter the full directory address where you want to store the document: E:\\\n"
     ]
    }
   ],
   "source": [
    "user_search = input(\" Please enter the expression you want to search on Wikipedia: \")\n",
    "address = 'https://fa.wikipedia.org/wiki/' + user_search\n",
    "my_crawler(address)"
   ]
  }
 ],
 "metadata": {
  "kernelspec": {
   "display_name": "Python 3",
   "language": "python",
   "name": "python3"
  },
  "language_info": {
   "codemirror_mode": {
    "name": "ipython",
    "version": 3
   },
   "file_extension": ".py",
   "mimetype": "text/x-python",
   "name": "python",
   "nbconvert_exporter": "python",
   "pygments_lexer": "ipython3",
   "version": "3.6.7"
  }
 },
 "nbformat": 4,
 "nbformat_minor": 2
}
